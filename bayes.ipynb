{
 "cells": [
  {
   "cell_type": "code",
   "execution_count": 2,
   "metadata": {
    "metadata": {}
   },
   "outputs": [
    {
     "name": "stderr",
     "output_type": "stream",
     "text": [
      "c:\\Users\\pmazu\\Documents\\GitHub\\controls_challenge\\.conda\\Lib\\site-packages\\tqdm\\auto.py:21: TqdmWarning: IProgress not found. Please update jupyter and ipywidgets. See https://ipywidgets.readthedocs.io/en/stable/user_install.html\n",
      "  from .autonotebook import tqdm as notebook_tqdm\n"
     ]
    }
   ],
   "source": [
    "from tinyphysics import run_rollout_controller\n",
    "from controllers.pid import Controller\n",
    "from skopt import gp_minimize\n",
    "from skopt.space import Real, Integer\n",
    "import numpy as np"
   ]
  },
  {
   "cell_type": "code",
   "execution_count": 3,
   "metadata": {
    "metadata": {}
   },
   "outputs": [],
   "source": [
    "def optimization_function(params, paths=[26]):\n",
    "    controller = Controller(params)\n",
    "    data_paths = [f'./data/{i:05}.csv' for i in paths]\n",
    "    stored_costs = []\n",
    "    def rollout(data_paths):\n",
    "        costs = []\n",
    "        for data_path in data_paths:\n",
    "            roll = run_rollout_controller(data_path, controller=controller, model_path='./models/tinyphysics.onnx')\n",
    "            costs.append(roll[0]['total_cost'])\n",
    "            if (roll[0]['total_cost'] > 200):\n",
    "                print(\"High error on \", data_path)\n",
    "        cost = np.mean(costs)\n",
    "        return cost\n",
    "    last_cost = rollout(data_paths)\n",
    "    stored_costs.append(last_cost)\n",
    "    # if (last_cost <= 1000):\n",
    "    #     print(\"params\", params)\n",
    "    #     data_paths = [f'./data/{i:05}.csv' for i in range(0, 50)]\n",
    "    #     last_cost = rollout(data_paths)\n",
    "    #     stored_costs.append(last_cost) \n",
    "    print(stored_costs)\n",
    "    return np.mean(stored_costs)"
   ]
  },
  {
   "cell_type": "code",
   "execution_count": 5,
   "metadata": {
    "metadata": {}
   },
   "outputs": [
    {
     "name": "stdout",
     "output_type": "stream",
     "text": [
      "Iteration No: 1 started. Evaluating function at provided point.\n",
      "High error on  ./data/00000.csv\n",
      "[1139.5005568908382]\n",
      "Iteration No: 1 ended. Evaluation done at provided point.\n",
      "Time taken: 0.4156\n",
      "Function value obtained: 1139.5006\n",
      "Current minimum: 1139.5006\n",
      "Iteration No: 2 started. Evaluating function at random point.\n"
     ]
    }
   ],
   "source": [
    "        # self.v_x0 = params[0]\n",
    "        # self.alpha_0 = params[1]\n",
    "        # self.K_alpha = params[2]\n",
    "        # self.K_p = params[3]\n",
    "        # self.K_d = params[4]\n",
    "space = [\n",
    "    Integer(0, 10, name='v_x0'),\n",
    "    Real(0.1, 1000, name='alpha_0'),\n",
    "    Real(0, 1000, name='K_alpha'),\n",
    "    Real(0.0, 2000, name='K_p'),\n",
    "    Real(-1, 2000, name='K_d'),\n",
    "    Real(0.01, 1, name='C'),\n",
    "    # Real(1, 10, name='R_s'),\n",
    "    # Real(0, 100000, name='L'),\n",
    "    # Integer(1, 50, name='d_k'),\n",
    "]\n",
    "pid_space = [\n",
    "    Real(0.0, 10, name='K_p'),\n",
    "    Real(0.0, 0.0000001, name='K_i'),\n",
    "    Real(-10, 10, name='K_d'),\n",
    "]\n",
    "# res = gp_minimize(optimization_function, space, n_calls=300, random_state=42, verbose=True)\n",
    "initial_point = [0.3, 0, -0.1]\n",
    "pairs = []\n",
    "for i in range(30):\n",
    "    res = gp_minimize(lambda y: optimization_function(y, paths=[i]), pid_space, n_calls=100, random_state=42, verbose=True, x0=initial_point)\n",
    "    pairs.append((i, res))\n",
    "print(pairs)\n"
   ]
  },
  {
   "cell_type": "code",
   "execution_count": 19,
   "metadata": {
    "metadata": {}
   },
   "outputs": [
    {
     "data": {
      "text/plain": [
       "          fun: 70.02935825716644\n",
       "            x: [0.2269300227092194, 0.11078741887302469, -0.15138213360575925]\n",
       "    func_vals: [ 8.891e+01  4.531e+04 ...  7.350e+01  7.697e+01]\n",
       "      x_iters: [[0.3, 0.05, -0.1], [7.965429868602331, 1.8343478986616382, 5.59382000545539], [5.968501579464871, 4.4583275285359125, -8.000501683639943], [4.592488919658672, 3.337086111390219, -7.1426636415611835], [6.50888472948853, 0.5641157902710027, 4.439975445336497], [9.385527090157504, 0.007787658410143285, 9.844231185824356], [6.174815096277166, 6.11653160488281, -9.858673895605651], [0.2306242504141576, 5.247746602583892, -2.002780565694888], [0.4666566321361543, 9.737555188414595, -5.3445731913939145], [0.9060643453282081, 6.183860093330874, -2.3507601746567435], [9.832308858067885, 4.667628932479801, 7.198808134726416], [0.0, 0.0, 10.0], [10.0, 0.0, -10.0], [0.0, 0.0, -10.0], [0.3520844982592794, 0.01207208351405832, 0.0006579449475196952], [0.388117520926409, 0.0, 0.07293546160450681], [0.2522731752187383, 0.04959857141565571, -0.20831371833318002], [0.1933796471104854, 0.05688426329802525, -0.19814855783485008], [0.3863432745239309, 0.04169932501164101, -0.2367949070582167], [0.1579791643423438, 0.027895401334588208, -0.21975045216708722], [0.3758173177089014, 0.0856629829674583, -0.17917481042370298], [0.38956389011172926, 0.08950556971984164, -0.18017558075220563], [0.3993793869115708, 0.08899358412352118, -0.18277155148694568], [0.42182634999709395, 0.08662825186941912, -0.1877698423804084], [0.3201386799370684, 0.09787666084383416, -0.16943934603871824], [0.2269300227092194, 0.11078741887302469, -0.15138213360575925], [1.5469111765376684, 0.0, -0.25921525415996705], [5.825245913553577, 0.0, 10.0], [4.422467592412893, 0.0, 7.177035499458043], [10.0, 0.0, -2.488313917477944], [3.640438883714749, 0.0, 10.0], [0.30218628964798777, 0.08252207514543364, -0.18144644475912486], [0.3022618129178645, 0.08266409011653304, -0.18180169373275135], [10.0, 10.0, 10.0], [0.30204271881847117, 0.0828774490484719, -0.18336328801057], [0.3021333875967888, 0.08304952862959471, -0.18375304916125934], [0.3022278548731036, 0.08320450315118255, -0.1841427198493939], [0.30226463125513253, 0.08336738699519569, -0.18452778098958333], [0.3024615112729475, 0.08354332206383201, -0.1848578009547488], [0.30258436183432663, 0.08372215078627232, -0.18521518563488115], [0.30270899191979206, 0.08392685872082764, -0.1855972951053726], [0.30284182220431083, 0.08416720628046015, -0.18594317134290783], [0.0, 10.0, 10.0], [0.3019606769613272, 0.08470120974424998, -0.18765359607166587], [0.3020900023022358, 0.08490386931992708, -0.1882599821510258], [0.30220576064161914, 0.08509827836803928, -0.18901890232436536], [0.3023131724919564, 0.08514988373735476, -0.19020478968689147], [2.9116805698696204, 1.837895728942921, 10.0], [0.29902699172313146, 0.07944201301878295, -0.21226314346160535], [0.2991222182186019, 0.07957199607250873, -0.2134312692406226], [0.299218767262433, 0.07969224528253757, -0.21484845465593239], [0.2993404755751752, 0.07979686840793727, -0.21643981123383327], [10.0, 0.0, 4.906111186523718], [0.29927296511262075, 0.09130842967560941, -0.15072963205213696], [7.473325409451866, 0.0, 6.3544609051032594], [0.2991983388982512, 0.09148881197827467, -0.1517663721417879], [0.2992921532686145, 0.09194110068498987, -0.15230881338954738], [0.2995868321069074, 0.0785174754809863, -0.22993549141145841], [10.0, 10.0, -10.0], [0.2985438074092197, 0.09203096798277893, -0.1409002422794643], [0.2986813067758483, 0.09252267238059649, -0.14100145914927076], [0.29885113962792853, 0.0929589517183397, -0.1415453131119122], [0.2985993003145331, 0.09326257608936447, -0.1418304919333888], [0.29904388913693003, 0.0815349988545653, -0.22768279507318212], [0.29940598900685633, 0.09407476606969783, -0.13128300117753255], [7.246918022578255, 0.0, -0.9178418620567452], [0.2983770491806232, 0.09305222358392708, -0.13185944724767573], [0.29873641037245474, 0.09388112076000323, -0.13212215006611672], [0.29859111830941165, 0.09400076224156464, -0.1320634537684704], [0.298988289709848, 0.09487150447854231, -0.1332945492216524], [0.29941804062080324, 0.09601740630659288, -0.1353886939033906], [0.29963387774559364, 0.0966176929368194, -0.13605189166061926], [0.29981809531086756, 0.09897408035234383, -0.21299699527572535], [0.2997028119376197, 0.09468975716282724, -0.12783130961917877], [10.0, 2.530393798358711, -10.0], [0.29870268533063177, 0.09301951436451197, -0.12482020456439002], [0.29898295345398596, 0.0938609915944183, -0.1258237422503239], [0.2993603224550844, 0.0972068513673277, -0.21991165685760805], [0.29831195000037436, 0.09081051015615017, -0.11630091724914848], [0.2983770383594049, 0.09138745709277735, -0.11687611101732287], [0.2999146065720709, 0.09346258784491737, -0.1177629587504132], [0.3012084315016824, 0.1062576973814546, -0.20138872867045166], [0.298867398347203, 0.09173430173095772, -0.11571553298779591], [0.30153743266590266, 0.1069353089581293, -0.2015923152437864], [0.2994639043749263, 0.09354672571925324, -0.11524165347490367], [0.3022436063879659, 0.10897685319562146, -0.1938481971137076], [0.29921078535375045, 0.09211272615401866, -0.11317280026532472], [0.30222093086198504, 0.11053047677009095, -0.19372423973244857], [0.29912786150186804, 0.07313731588042059, -0.20038125078207614], [0.30060991830070205, 0.09483970541606901, -0.1110528455426909], [0.30280786008283256, 0.10027855958772736, -0.1169289320949769], [0.304924778898346, 0.11312800334717919, -0.16408663195008266], [0.30525954221533236, 0.11216775839798418, -0.16221223575304755], [0.3026371103459719, 0.10211546363591023, -0.11899202081640503], [0.3052310941575759, 0.1136970791775973, -0.17717982042243108], [0.30147210582410683, 0.09878095303451309, -0.11246106134948874], [0.3059063100728979, 0.11399794928730264, -0.1745864929943739], [0.3055812120462691, 0.11516374980892796, -0.17327263224166245], [0.30248811030290845, 0.10021997615650977, -0.11136431561386928], [0.30610729763767947, 0.11544207007827421, -0.17048868889457225]]\n",
       "       models: [GaussianProcessRegressor(kernel=1**2 * Matern(length_scale=[1, 1, 1], nu=2.5) + WhiteKernel(noise_level=1),\n",
       "                                        n_restarts_optimizer=2, noise='gaussian',\n",
       "                                        normalize_y=True, random_state=1608637542), GaussianProcessRegressor(kernel=1**2 * Matern(length_scale=[1, 1, 1], nu=2.5) + WhiteKernel(noise_level=1),\n",
       "                                        n_restarts_optimizer=2, noise='gaussian',\n",
       "                                        normalize_y=True, random_state=1608637542), GaussianProcessRegressor(kernel=1**2 * Matern(length_scale=[1, 1, 1], nu=2.5) + WhiteKernel(noise_level=1),\n",
       "                                        n_restarts_optimizer=2, noise='gaussian',\n",
       "                                        normalize_y=True, random_state=1608637542), GaussianProcessRegressor(kernel=1**2 * Matern(length_scale=[1, 1, 1], nu=2.5) + WhiteKernel(noise_level=1),\n",
       "                                        n_restarts_optimizer=2, noise='gaussian',\n",
       "                                        normalize_y=True, random_state=1608637542), GaussianProcessRegressor(kernel=1**2 * Matern(length_scale=[1, 1, 1], nu=2.5) + WhiteKernel(noise_level=1),\n",
       "                                        n_restarts_optimizer=2, noise='gaussian',\n",
       "                                        normalize_y=True, random_state=1608637542), GaussianProcessRegressor(kernel=1**2 * Matern(length_scale=[1, 1, 1], nu=2.5) + WhiteKernel(noise_level=1),\n",
       "                                        n_restarts_optimizer=2, noise='gaussian',\n",
       "                                        normalize_y=True, random_state=1608637542), GaussianProcessRegressor(kernel=1**2 * Matern(length_scale=[1, 1, 1], nu=2.5) + WhiteKernel(noise_level=1),\n",
       "                                        n_restarts_optimizer=2, noise='gaussian',\n",
       "                                        normalize_y=True, random_state=1608637542), GaussianProcessRegressor(kernel=1**2 * Matern(length_scale=[1, 1, 1], nu=2.5) + WhiteKernel(noise_level=1),\n",
       "                                        n_restarts_optimizer=2, noise='gaussian',\n",
       "                                        normalize_y=True, random_state=1608637542), GaussianProcessRegressor(kernel=1**2 * Matern(length_scale=[1, 1, 1], nu=2.5) + WhiteKernel(noise_level=1),\n",
       "                                        n_restarts_optimizer=2, noise='gaussian',\n",
       "                                        normalize_y=True, random_state=1608637542), GaussianProcessRegressor(kernel=1**2 * Matern(length_scale=[1, 1, 1], nu=2.5) + WhiteKernel(noise_level=1),\n",
       "                                        n_restarts_optimizer=2, noise='gaussian',\n",
       "                                        normalize_y=True, random_state=1608637542), GaussianProcessRegressor(kernel=1**2 * Matern(length_scale=[1, 1, 1], nu=2.5) + WhiteKernel(noise_level=1),\n",
       "                                        n_restarts_optimizer=2, noise='gaussian',\n",
       "                                        normalize_y=True, random_state=1608637542), GaussianProcessRegressor(kernel=1**2 * Matern(length_scale=[1, 1, 1], nu=2.5) + WhiteKernel(noise_level=1),\n",
       "                                        n_restarts_optimizer=2, noise='gaussian',\n",
       "                                        normalize_y=True, random_state=1608637542), GaussianProcessRegressor(kernel=1**2 * Matern(length_scale=[1, 1, 1], nu=2.5) + WhiteKernel(noise_level=1),\n",
       "                                        n_restarts_optimizer=2, noise='gaussian',\n",
       "                                        normalize_y=True, random_state=1608637542), GaussianProcessRegressor(kernel=1**2 * Matern(length_scale=[1, 1, 1], nu=2.5) + WhiteKernel(noise_level=1),\n",
       "                                        n_restarts_optimizer=2, noise='gaussian',\n",
       "                                        normalize_y=True, random_state=1608637542), GaussianProcessRegressor(kernel=1**2 * Matern(length_scale=[1, 1, 1], nu=2.5) + WhiteKernel(noise_level=1),\n",
       "                                        n_restarts_optimizer=2, noise='gaussian',\n",
       "                                        normalize_y=True, random_state=1608637542), GaussianProcessRegressor(kernel=1**2 * Matern(length_scale=[1, 1, 1], nu=2.5) + WhiteKernel(noise_level=1),\n",
       "                                        n_restarts_optimizer=2, noise='gaussian',\n",
       "                                        normalize_y=True, random_state=1608637542), GaussianProcessRegressor(kernel=1**2 * Matern(length_scale=[1, 1, 1], nu=2.5) + WhiteKernel(noise_level=1),\n",
       "                                        n_restarts_optimizer=2, noise='gaussian',\n",
       "                                        normalize_y=True, random_state=1608637542), GaussianProcessRegressor(kernel=1**2 * Matern(length_scale=[1, 1, 1], nu=2.5) + WhiteKernel(noise_level=1),\n",
       "                                        n_restarts_optimizer=2, noise='gaussian',\n",
       "                                        normalize_y=True, random_state=1608637542), GaussianProcessRegressor(kernel=1**2 * Matern(length_scale=[1, 1, 1], nu=2.5) + WhiteKernel(noise_level=1),\n",
       "                                        n_restarts_optimizer=2, noise='gaussian',\n",
       "                                        normalize_y=True, random_state=1608637542), GaussianProcessRegressor(kernel=1**2 * Matern(length_scale=[1, 1, 1], nu=2.5) + WhiteKernel(noise_level=1),\n",
       "                                        n_restarts_optimizer=2, noise='gaussian',\n",
       "                                        normalize_y=True, random_state=1608637542), GaussianProcessRegressor(kernel=1**2 * Matern(length_scale=[1, 1, 1], nu=2.5) + WhiteKernel(noise_level=1),\n",
       "                                        n_restarts_optimizer=2, noise='gaussian',\n",
       "                                        normalize_y=True, random_state=1608637542), GaussianProcessRegressor(kernel=1**2 * Matern(length_scale=[1, 1, 1], nu=2.5) + WhiteKernel(noise_level=1),\n",
       "                                        n_restarts_optimizer=2, noise='gaussian',\n",
       "                                        normalize_y=True, random_state=1608637542), GaussianProcessRegressor(kernel=1**2 * Matern(length_scale=[1, 1, 1], nu=2.5) + WhiteKernel(noise_level=1),\n",
       "                                        n_restarts_optimizer=2, noise='gaussian',\n",
       "                                        normalize_y=True, random_state=1608637542), GaussianProcessRegressor(kernel=1**2 * Matern(length_scale=[1, 1, 1], nu=2.5) + WhiteKernel(noise_level=1),\n",
       "                                        n_restarts_optimizer=2, noise='gaussian',\n",
       "                                        normalize_y=True, random_state=1608637542), GaussianProcessRegressor(kernel=1**2 * Matern(length_scale=[1, 1, 1], nu=2.5) + WhiteKernel(noise_level=1),\n",
       "                                        n_restarts_optimizer=2, noise='gaussian',\n",
       "                                        normalize_y=True, random_state=1608637542), GaussianProcessRegressor(kernel=1**2 * Matern(length_scale=[1, 1, 1], nu=2.5) + WhiteKernel(noise_level=1),\n",
       "                                        n_restarts_optimizer=2, noise='gaussian',\n",
       "                                        normalize_y=True, random_state=1608637542), GaussianProcessRegressor(kernel=1**2 * Matern(length_scale=[1, 1, 1], nu=2.5) + WhiteKernel(noise_level=1),\n",
       "                                        n_restarts_optimizer=2, noise='gaussian',\n",
       "                                        normalize_y=True, random_state=1608637542), GaussianProcessRegressor(kernel=1**2 * Matern(length_scale=[1, 1, 1], nu=2.5) + WhiteKernel(noise_level=1),\n",
       "                                        n_restarts_optimizer=2, noise='gaussian',\n",
       "                                        normalize_y=True, random_state=1608637542), GaussianProcessRegressor(kernel=1**2 * Matern(length_scale=[1, 1, 1], nu=2.5) + WhiteKernel(noise_level=1),\n",
       "                                        n_restarts_optimizer=2, noise='gaussian',\n",
       "                                        normalize_y=True, random_state=1608637542), GaussianProcessRegressor(kernel=1**2 * Matern(length_scale=[1, 1, 1], nu=2.5) + WhiteKernel(noise_level=1),\n",
       "                                        n_restarts_optimizer=2, noise='gaussian',\n",
       "                                        normalize_y=True, random_state=1608637542), GaussianProcessRegressor(kernel=1**2 * Matern(length_scale=[1, 1, 1], nu=2.5) + WhiteKernel(noise_level=1),\n",
       "                                        n_restarts_optimizer=2, noise='gaussian',\n",
       "                                        normalize_y=True, random_state=1608637542), GaussianProcessRegressor(kernel=1**2 * Matern(length_scale=[1, 1, 1], nu=2.5) + WhiteKernel(noise_level=1),\n",
       "                                        n_restarts_optimizer=2, noise='gaussian',\n",
       "                                        normalize_y=True, random_state=1608637542), GaussianProcessRegressor(kernel=1**2 * Matern(length_scale=[1, 1, 1], nu=2.5) + WhiteKernel(noise_level=1),\n",
       "                                        n_restarts_optimizer=2, noise='gaussian',\n",
       "                                        normalize_y=True, random_state=1608637542), GaussianProcessRegressor(kernel=1**2 * Matern(length_scale=[1, 1, 1], nu=2.5) + WhiteKernel(noise_level=1),\n",
       "                                        n_restarts_optimizer=2, noise='gaussian',\n",
       "                                        normalize_y=True, random_state=1608637542), GaussianProcessRegressor(kernel=1**2 * Matern(length_scale=[1, 1, 1], nu=2.5) + WhiteKernel(noise_level=1),\n",
       "                                        n_restarts_optimizer=2, noise='gaussian',\n",
       "                                        normalize_y=True, random_state=1608637542), GaussianProcessRegressor(kernel=1**2 * Matern(length_scale=[1, 1, 1], nu=2.5) + WhiteKernel(noise_level=1),\n",
       "                                        n_restarts_optimizer=2, noise='gaussian',\n",
       "                                        normalize_y=True, random_state=1608637542), GaussianProcessRegressor(kernel=1**2 * Matern(length_scale=[1, 1, 1], nu=2.5) + WhiteKernel(noise_level=1),\n",
       "                                        n_restarts_optimizer=2, noise='gaussian',\n",
       "                                        normalize_y=True, random_state=1608637542), GaussianProcessRegressor(kernel=1**2 * Matern(length_scale=[1, 1, 1], nu=2.5) + WhiteKernel(noise_level=1),\n",
       "                                        n_restarts_optimizer=2, noise='gaussian',\n",
       "                                        normalize_y=True, random_state=1608637542), GaussianProcessRegressor(kernel=1**2 * Matern(length_scale=[1, 1, 1], nu=2.5) + WhiteKernel(noise_level=1),\n",
       "                                        n_restarts_optimizer=2, noise='gaussian',\n",
       "                                        normalize_y=True, random_state=1608637542), GaussianProcessRegressor(kernel=1**2 * Matern(length_scale=[1, 1, 1], nu=2.5) + WhiteKernel(noise_level=1),\n",
       "                                        n_restarts_optimizer=2, noise='gaussian',\n",
       "                                        normalize_y=True, random_state=1608637542), GaussianProcessRegressor(kernel=1**2 * Matern(length_scale=[1, 1, 1], nu=2.5) + WhiteKernel(noise_level=1),\n",
       "                                        n_restarts_optimizer=2, noise='gaussian',\n",
       "                                        normalize_y=True, random_state=1608637542), GaussianProcessRegressor(kernel=1**2 * Matern(length_scale=[1, 1, 1], nu=2.5) + WhiteKernel(noise_level=1),\n",
       "                                        n_restarts_optimizer=2, noise='gaussian',\n",
       "                                        normalize_y=True, random_state=1608637542), GaussianProcessRegressor(kernel=1**2 * Matern(length_scale=[1, 1, 1], nu=2.5) + WhiteKernel(noise_level=1),\n",
       "                                        n_restarts_optimizer=2, noise='gaussian',\n",
       "                                        normalize_y=True, random_state=1608637542), GaussianProcessRegressor(kernel=1**2 * Matern(length_scale=[1, 1, 1], nu=2.5) + WhiteKernel(noise_level=1),\n",
       "                                        n_restarts_optimizer=2, noise='gaussian',\n",
       "                                        normalize_y=True, random_state=1608637542), GaussianProcessRegressor(kernel=1**2 * Matern(length_scale=[1, 1, 1], nu=2.5) + WhiteKernel(noise_level=1),\n",
       "                                        n_restarts_optimizer=2, noise='gaussian',\n",
       "                                        normalize_y=True, random_state=1608637542), GaussianProcessRegressor(kernel=1**2 * Matern(length_scale=[1, 1, 1], nu=2.5) + WhiteKernel(noise_level=1),\n",
       "                                        n_restarts_optimizer=2, noise='gaussian',\n",
       "                                        normalize_y=True, random_state=1608637542), GaussianProcessRegressor(kernel=1**2 * Matern(length_scale=[1, 1, 1], nu=2.5) + WhiteKernel(noise_level=1),\n",
       "                                        n_restarts_optimizer=2, noise='gaussian',\n",
       "                                        normalize_y=True, random_state=1608637542), GaussianProcessRegressor(kernel=1**2 * Matern(length_scale=[1, 1, 1], nu=2.5) + WhiteKernel(noise_level=1),\n",
       "                                        n_restarts_optimizer=2, noise='gaussian',\n",
       "                                        normalize_y=True, random_state=1608637542), GaussianProcessRegressor(kernel=1**2 * Matern(length_scale=[1, 1, 1], nu=2.5) + WhiteKernel(noise_level=1),\n",
       "                                        n_restarts_optimizer=2, noise='gaussian',\n",
       "                                        normalize_y=True, random_state=1608637542), GaussianProcessRegressor(kernel=1**2 * Matern(length_scale=[1, 1, 1], nu=2.5) + WhiteKernel(noise_level=1),\n",
       "                                        n_restarts_optimizer=2, noise='gaussian',\n",
       "                                        normalize_y=True, random_state=1608637542), GaussianProcessRegressor(kernel=1**2 * Matern(length_scale=[1, 1, 1], nu=2.5) + WhiteKernel(noise_level=1),\n",
       "                                        n_restarts_optimizer=2, noise='gaussian',\n",
       "                                        normalize_y=True, random_state=1608637542), GaussianProcessRegressor(kernel=1**2 * Matern(length_scale=[1, 1, 1], nu=2.5) + WhiteKernel(noise_level=1),\n",
       "                                        n_restarts_optimizer=2, noise='gaussian',\n",
       "                                        normalize_y=True, random_state=1608637542), GaussianProcessRegressor(kernel=1**2 * Matern(length_scale=[1, 1, 1], nu=2.5) + WhiteKernel(noise_level=1),\n",
       "                                        n_restarts_optimizer=2, noise='gaussian',\n",
       "                                        normalize_y=True, random_state=1608637542), GaussianProcessRegressor(kernel=1**2 * Matern(length_scale=[1, 1, 1], nu=2.5) + WhiteKernel(noise_level=1),\n",
       "                                        n_restarts_optimizer=2, noise='gaussian',\n",
       "                                        normalize_y=True, random_state=1608637542), GaussianProcessRegressor(kernel=1**2 * Matern(length_scale=[1, 1, 1], nu=2.5) + WhiteKernel(noise_level=1),\n",
       "                                        n_restarts_optimizer=2, noise='gaussian',\n",
       "                                        normalize_y=True, random_state=1608637542), GaussianProcessRegressor(kernel=1**2 * Matern(length_scale=[1, 1, 1], nu=2.5) + WhiteKernel(noise_level=1),\n",
       "                                        n_restarts_optimizer=2, noise='gaussian',\n",
       "                                        normalize_y=True, random_state=1608637542), GaussianProcessRegressor(kernel=1**2 * Matern(length_scale=[1, 1, 1], nu=2.5) + WhiteKernel(noise_level=1),\n",
       "                                        n_restarts_optimizer=2, noise='gaussian',\n",
       "                                        normalize_y=True, random_state=1608637542), GaussianProcessRegressor(kernel=1**2 * Matern(length_scale=[1, 1, 1], nu=2.5) + WhiteKernel(noise_level=1),\n",
       "                                        n_restarts_optimizer=2, noise='gaussian',\n",
       "                                        normalize_y=True, random_state=1608637542), GaussianProcessRegressor(kernel=1**2 * Matern(length_scale=[1, 1, 1], nu=2.5) + WhiteKernel(noise_level=1),\n",
       "                                        n_restarts_optimizer=2, noise='gaussian',\n",
       "                                        normalize_y=True, random_state=1608637542), GaussianProcessRegressor(kernel=1**2 * Matern(length_scale=[1, 1, 1], nu=2.5) + WhiteKernel(noise_level=1),\n",
       "                                        n_restarts_optimizer=2, noise='gaussian',\n",
       "                                        normalize_y=True, random_state=1608637542), GaussianProcessRegressor(kernel=1**2 * Matern(length_scale=[1, 1, 1], nu=2.5) + WhiteKernel(noise_level=1),\n",
       "                                        n_restarts_optimizer=2, noise='gaussian',\n",
       "                                        normalize_y=True, random_state=1608637542), GaussianProcessRegressor(kernel=1**2 * Matern(length_scale=[1, 1, 1], nu=2.5) + WhiteKernel(noise_level=1),\n",
       "                                        n_restarts_optimizer=2, noise='gaussian',\n",
       "                                        normalize_y=True, random_state=1608637542), GaussianProcessRegressor(kernel=1**2 * Matern(length_scale=[1, 1, 1], nu=2.5) + WhiteKernel(noise_level=1),\n",
       "                                        n_restarts_optimizer=2, noise='gaussian',\n",
       "                                        normalize_y=True, random_state=1608637542), GaussianProcessRegressor(kernel=1**2 * Matern(length_scale=[1, 1, 1], nu=2.5) + WhiteKernel(noise_level=1),\n",
       "                                        n_restarts_optimizer=2, noise='gaussian',\n",
       "                                        normalize_y=True, random_state=1608637542), GaussianProcessRegressor(kernel=1**2 * Matern(length_scale=[1, 1, 1], nu=2.5) + WhiteKernel(noise_level=1),\n",
       "                                        n_restarts_optimizer=2, noise='gaussian',\n",
       "                                        normalize_y=True, random_state=1608637542), GaussianProcessRegressor(kernel=1**2 * Matern(length_scale=[1, 1, 1], nu=2.5) + WhiteKernel(noise_level=1),\n",
       "                                        n_restarts_optimizer=2, noise='gaussian',\n",
       "                                        normalize_y=True, random_state=1608637542), GaussianProcessRegressor(kernel=1**2 * Matern(length_scale=[1, 1, 1], nu=2.5) + WhiteKernel(noise_level=1),\n",
       "                                        n_restarts_optimizer=2, noise='gaussian',\n",
       "                                        normalize_y=True, random_state=1608637542), GaussianProcessRegressor(kernel=1**2 * Matern(length_scale=[1, 1, 1], nu=2.5) + WhiteKernel(noise_level=1),\n",
       "                                        n_restarts_optimizer=2, noise='gaussian',\n",
       "                                        normalize_y=True, random_state=1608637542), GaussianProcessRegressor(kernel=1**2 * Matern(length_scale=[1, 1, 1], nu=2.5) + WhiteKernel(noise_level=1),\n",
       "                                        n_restarts_optimizer=2, noise='gaussian',\n",
       "                                        normalize_y=True, random_state=1608637542), GaussianProcessRegressor(kernel=1**2 * Matern(length_scale=[1, 1, 1], nu=2.5) + WhiteKernel(noise_level=1),\n",
       "                                        n_restarts_optimizer=2, noise='gaussian',\n",
       "                                        normalize_y=True, random_state=1608637542), GaussianProcessRegressor(kernel=1**2 * Matern(length_scale=[1, 1, 1], nu=2.5) + WhiteKernel(noise_level=1),\n",
       "                                        n_restarts_optimizer=2, noise='gaussian',\n",
       "                                        normalize_y=True, random_state=1608637542), GaussianProcessRegressor(kernel=1**2 * Matern(length_scale=[1, 1, 1], nu=2.5) + WhiteKernel(noise_level=1),\n",
       "                                        n_restarts_optimizer=2, noise='gaussian',\n",
       "                                        normalize_y=True, random_state=1608637542), GaussianProcessRegressor(kernel=1**2 * Matern(length_scale=[1, 1, 1], nu=2.5) + WhiteKernel(noise_level=1),\n",
       "                                        n_restarts_optimizer=2, noise='gaussian',\n",
       "                                        normalize_y=True, random_state=1608637542), GaussianProcessRegressor(kernel=1**2 * Matern(length_scale=[1, 1, 1], nu=2.5) + WhiteKernel(noise_level=1),\n",
       "                                        n_restarts_optimizer=2, noise='gaussian',\n",
       "                                        normalize_y=True, random_state=1608637542), GaussianProcessRegressor(kernel=1**2 * Matern(length_scale=[1, 1, 1], nu=2.5) + WhiteKernel(noise_level=1),\n",
       "                                        n_restarts_optimizer=2, noise='gaussian',\n",
       "                                        normalize_y=True, random_state=1608637542), GaussianProcessRegressor(kernel=1**2 * Matern(length_scale=[1, 1, 1], nu=2.5) + WhiteKernel(noise_level=1),\n",
       "                                        n_restarts_optimizer=2, noise='gaussian',\n",
       "                                        normalize_y=True, random_state=1608637542), GaussianProcessRegressor(kernel=1**2 * Matern(length_scale=[1, 1, 1], nu=2.5) + WhiteKernel(noise_level=1),\n",
       "                                        n_restarts_optimizer=2, noise='gaussian',\n",
       "                                        normalize_y=True, random_state=1608637542), GaussianProcessRegressor(kernel=1**2 * Matern(length_scale=[1, 1, 1], nu=2.5) + WhiteKernel(noise_level=1),\n",
       "                                        n_restarts_optimizer=2, noise='gaussian',\n",
       "                                        normalize_y=True, random_state=1608637542), GaussianProcessRegressor(kernel=1**2 * Matern(length_scale=[1, 1, 1], nu=2.5) + WhiteKernel(noise_level=1),\n",
       "                                        n_restarts_optimizer=2, noise='gaussian',\n",
       "                                        normalize_y=True, random_state=1608637542), GaussianProcessRegressor(kernel=1**2 * Matern(length_scale=[1, 1, 1], nu=2.5) + WhiteKernel(noise_level=1),\n",
       "                                        n_restarts_optimizer=2, noise='gaussian',\n",
       "                                        normalize_y=True, random_state=1608637542), GaussianProcessRegressor(kernel=1**2 * Matern(length_scale=[1, 1, 1], nu=2.5) + WhiteKernel(noise_level=1),\n",
       "                                        n_restarts_optimizer=2, noise='gaussian',\n",
       "                                        normalize_y=True, random_state=1608637542), GaussianProcessRegressor(kernel=1**2 * Matern(length_scale=[1, 1, 1], nu=2.5) + WhiteKernel(noise_level=1),\n",
       "                                        n_restarts_optimizer=2, noise='gaussian',\n",
       "                                        normalize_y=True, random_state=1608637542), GaussianProcessRegressor(kernel=1**2 * Matern(length_scale=[1, 1, 1], nu=2.5) + WhiteKernel(noise_level=1),\n",
       "                                        n_restarts_optimizer=2, noise='gaussian',\n",
       "                                        normalize_y=True, random_state=1608637542), GaussianProcessRegressor(kernel=1**2 * Matern(length_scale=[1, 1, 1], nu=2.5) + WhiteKernel(noise_level=1),\n",
       "                                        n_restarts_optimizer=2, noise='gaussian',\n",
       "                                        normalize_y=True, random_state=1608637542), GaussianProcessRegressor(kernel=1**2 * Matern(length_scale=[1, 1, 1], nu=2.5) + WhiteKernel(noise_level=1),\n",
       "                                        n_restarts_optimizer=2, noise='gaussian',\n",
       "                                        normalize_y=True, random_state=1608637542), GaussianProcessRegressor(kernel=1**2 * Matern(length_scale=[1, 1, 1], nu=2.5) + WhiteKernel(noise_level=1),\n",
       "                                        n_restarts_optimizer=2, noise='gaussian',\n",
       "                                        normalize_y=True, random_state=1608637542), GaussianProcessRegressor(kernel=1**2 * Matern(length_scale=[1, 1, 1], nu=2.5) + WhiteKernel(noise_level=1),\n",
       "                                        n_restarts_optimizer=2, noise='gaussian',\n",
       "                                        normalize_y=True, random_state=1608637542), GaussianProcessRegressor(kernel=1**2 * Matern(length_scale=[1, 1, 1], nu=2.5) + WhiteKernel(noise_level=1),\n",
       "                                        n_restarts_optimizer=2, noise='gaussian',\n",
       "                                        normalize_y=True, random_state=1608637542), GaussianProcessRegressor(kernel=1**2 * Matern(length_scale=[1, 1, 1], nu=2.5) + WhiteKernel(noise_level=1),\n",
       "                                        n_restarts_optimizer=2, noise='gaussian',\n",
       "                                        normalize_y=True, random_state=1608637542), GaussianProcessRegressor(kernel=1**2 * Matern(length_scale=[1, 1, 1], nu=2.5) + WhiteKernel(noise_level=1),\n",
       "                                        n_restarts_optimizer=2, noise='gaussian',\n",
       "                                        normalize_y=True, random_state=1608637542)]\n",
       "        space: Space([Real(low=0.0, high=10, prior='uniform', transform='normalize'),\n",
       "                      Real(low=0.0, high=10, prior='uniform', transform='normalize'),\n",
       "                      Real(low=-10, high=10, prior='uniform', transform='normalize')])\n",
       " random_state: RandomState(MT19937)\n",
       "        specs:     args:                    func: <function <lambda> at 0x0000026EC4BCAF20>\n",
       "                                      dimensions: Space([Real(low=0.0, high=10, prior='uniform', transform='normalize'),\n",
       "                                                         Real(low=0.0, high=10, prior='uniform', transform='normalize'),\n",
       "                                                         Real(low=-10, high=10, prior='uniform', transform='normalize')])\n",
       "                                  base_estimator: GaussianProcessRegressor(kernel=1**2 * Matern(length_scale=[1, 1, 1], nu=2.5),\n",
       "                                                                           n_restarts_optimizer=2, noise='gaussian',\n",
       "                                                                           normalize_y=True, random_state=1608637542)\n",
       "                                         n_calls: 100\n",
       "                                 n_random_starts: None\n",
       "                                n_initial_points: 10\n",
       "                         initial_point_generator: random\n",
       "                                        acq_func: gp_hedge\n",
       "                                   acq_optimizer: auto\n",
       "                                              x0: [0.3, 0.05, -0.1]\n",
       "                                              y0: None\n",
       "                                    random_state: RandomState(MT19937)\n",
       "                                         verbose: True\n",
       "                                        callback: None\n",
       "                                        n_points: 10000\n",
       "                            n_restarts_optimizer: 5\n",
       "                                              xi: 0.01\n",
       "                                           kappa: 1.96\n",
       "                                          n_jobs: 1\n",
       "                                model_queue_size: None\n",
       "                                space_constraint: None\n",
       "               function: base_minimize"
      ]
     },
     "execution_count": 19,
     "metadata": {},
     "output_type": "execute_result"
    }
   ],
   "source": [
    "res"
   ]
  },
  {
   "cell_type": "code",
   "execution_count": 22,
   "metadata": {
    "metadata": {}
   },
   "outputs": [
    {
     "name": "stdout",
     "output_type": "stream",
     "text": [
      "58.84248261392709\n"
     ]
    }
   ],
   "source": [
    "sum = 0\n",
    "for i in range(len(pairs)):\n",
    "    if (pairs[i][1].fun < 200):\n",
    "        sum += pairs[i][1].fun\n",
    "print(sum / len(pairs))\n"
   ]
  },
  {
   "cell_type": "code",
   "execution_count": 23,
   "metadata": {
    "metadata": {}
   },
   "outputs": [
    {
     "data": {
      "image/png": "[encoded data removed]",
      "text/plain": [
       "<Figure size 640x480 with 1 Axes>"
      ]
     },
     "metadata": {},
     "output_type": "display_data"
    },
    {
     "name": "stdout",
     "output_type": "stream",
     "text": [
      "582.1198182408126\n"
     ]
    }
   ],
   "source": [
    "# plot error per file\n",
    "import matplotlib.pyplot as plt\n",
    "plt.plot([pair[1].fun for pair in pairs])\n",
    "plt.show()\n",
    "\n",
    "print(max([pair[1].fun for pair in pairs]))"
   ]
  },
  {
   "cell_type": "code",
   "execution_count": 24,
   "metadata": {
    "metadata": {}
   },
   "outputs": [
    {
     "name": "stdout",
     "output_type": "stream",
     "text": [
      "582.1198182408126\n",
      "max index:  26\n"
     ]
    }
   ],
   "source": [
    "print(max([pair[1].fun for pair in pairs]))\n",
    "print(\"max index: \", [pair[1].fun for pair in pairs].index(max([pair[1].fun for pair in pairs])))\n"
   ]
  },
  {
   "cell_type": "code",
   "execution_count": 1,
   "metadata": {
    "metadata": {}
   },
   "outputs": [
    {
     "ename": "NameError",
     "evalue": "name 'pairs' is not defined",
     "output_type": "error",
     "traceback": [
      "\u001b[1;31m---------------------------------------------------------------------------\u001b[0m",
      "\u001b[1;31mNameError\u001b[0m                                 Traceback (most recent call last)",
      "Cell \u001b[1;32mIn[1], line 1\u001b[0m\n\u001b[1;32m----> 1\u001b[0m \u001b[43mpairs\u001b[49m[\u001b[38;5;241m26\u001b[39m][\u001b[38;5;241m1\u001b[39m]\u001b[38;5;241m.\u001b[39mx\n",
      "\u001b[1;31mNameError\u001b[0m: name 'pairs' is not defined"
     ]
    }
   ],
   "source": [
    "pairs[26][1].x"
   ]
  },
  {
   "cell_type": "code",
   "execution_count": 26,
   "metadata": {
    "metadata": {}
   },
   "outputs": [],
   "source": [
    "# see if theres a correlation between the index and the params\n",
    "import matplotlib.pyplot as plt\n",
    "import pandas as pd"
   ]
  },
  {
   "cell_type": "code",
   "execution_count": 27,
   "metadata": {
    "metadata": {}
   },
   "outputs": [
    {
     "ename": "IndexError",
     "evalue": "list index out of range",
     "output_type": "error",
     "traceback": [
      "\u001b[1;31m---------------------------------------------------------------------------\u001b[0m",
      "\u001b[1;31mIndexError\u001b[0m                                Traceback (most recent call last)",
      "Cell \u001b[1;32mIn[27], line 4\u001b[0m\n\u001b[0;32m      2\u001b[0m \u001b[38;5;28;01mfor\u001b[39;00m i \u001b[38;5;129;01min\u001b[39;00m \u001b[38;5;28mrange\u001b[39m(\u001b[38;5;28mlen\u001b[39m(pairs)):\n\u001b[0;32m      3\u001b[0m     params \u001b[38;5;241m=\u001b[39m pairs[i][\u001b[38;5;241m1\u001b[39m]\u001b[38;5;241m.\u001b[39mx\n\u001b[1;32m----> 4\u001b[0m     df \u001b[38;5;241m=\u001b[39m pd\u001b[38;5;241m.\u001b[39mconcat([df, pd\u001b[38;5;241m.\u001b[39mDataFrame(index\u001b[38;5;241m=\u001b[39m[i], data\u001b[38;5;241m=\u001b[39m{\u001b[38;5;124m'\u001b[39m\u001b[38;5;124mindex\u001b[39m\u001b[38;5;124m'\u001b[39m: i, \u001b[38;5;124m'\u001b[39m\u001b[38;5;124mv_x0\u001b[39m\u001b[38;5;124m'\u001b[39m: params[\u001b[38;5;241m0\u001b[39m], \u001b[38;5;124m'\u001b[39m\u001b[38;5;124malpha_0\u001b[39m\u001b[38;5;124m'\u001b[39m: params[\u001b[38;5;241m1\u001b[39m], \u001b[38;5;124m'\u001b[39m\u001b[38;5;124mK_alpha\u001b[39m\u001b[38;5;124m'\u001b[39m: params[\u001b[38;5;241m2\u001b[39m], \u001b[38;5;124m'\u001b[39m\u001b[38;5;124mK_p\u001b[39m\u001b[38;5;124m'\u001b[39m: \u001b[43mparams\u001b[49m\u001b[43m[\u001b[49m\u001b[38;5;241;43m3\u001b[39;49m\u001b[43m]\u001b[49m, \u001b[38;5;124m'\u001b[39m\u001b[38;5;124mK_d\u001b[39m\u001b[38;5;124m'\u001b[39m: params[\u001b[38;5;241m4\u001b[39m]})], ignore_index\u001b[38;5;241m=\u001b[39m\u001b[38;5;28;01mFalse\u001b[39;00m)\n",
      "\u001b[1;31mIndexError\u001b[0m: list index out of range"
     ]
    }
   ],
   "source": [
    "df = pd.DataFrame(columns=['index', 'v_x0', 'alpha_0', 'K_alpha', 'K_p', 'K_d'])\n",
    "for i in range(len(pairs)):\n",
    "    params = pairs[i][1].x\n",
    "    df = pd.concat([df, pd.DataFrame(index=[i], data={'index': i, 'v_x0': params[0], 'alpha_0': params[1], 'K_alpha': params[2], 'K_p': params[3], 'K_d': params[4]})], ignore_index=False)"
   ]
  },
  {
   "cell_type": "code",
   "execution_count": 21,
   "metadata": {
    "metadata": {}
   },
   "outputs": [
    {
     "data": {
      "text/html": [
       "<div>\n",
       "<style scoped>\n",
       "    .dataframe tbody tr th:only-of-type {\n",
       "        vertical-align: middle;\n",
       "    }\n",
       "\n",
       "    .dataframe tbody tr th {\n",
       "        vertical-align: top;\n",
       "    }\n",
       "\n",
       "    .dataframe thead th {\n",
       "        text-align: right;\n",
       "    }\n",
       "</style>\n",
       "<table border=\"1\" class=\"dataframe\">\n",
       "  <thead>\n",
       "    <tr style=\"text-align: right;\">\n",
       "      <th></th>\n",
       "      <th>index</th>\n",
       "      <th>v_x0</th>\n",
       "      <th>alpha_0</th>\n",
       "      <th>K_alpha</th>\n",
       "      <th>K_p</th>\n",
       "      <th>K_d</th>\n",
       "    </tr>\n",
       "  </thead>\n",
       "  <tbody>\n",
       "    <tr>\n",
       "      <th>0</th>\n",
       "      <td>0</td>\n",
       "      <td>8</td>\n",
       "      <td>397.815103</td>\n",
       "      <td>201.025012</td>\n",
       "      <td>1118.713249</td>\n",
       "      <td>68.857297</td>\n",
       "    </tr>\n",
       "    <tr>\n",
       "      <th>1</th>\n",
       "      <td>1</td>\n",
       "      <td>6</td>\n",
       "      <td>832.992647</td>\n",
       "      <td>177.330654</td>\n",
       "      <td>739.057147</td>\n",
       "      <td>35.620148</td>\n",
       "    </tr>\n",
       "    <tr>\n",
       "      <th>2</th>\n",
       "      <td>2</td>\n",
       "      <td>2</td>\n",
       "      <td>540.944621</td>\n",
       "      <td>207.134434</td>\n",
       "      <td>1154.970194</td>\n",
       "      <td>45.042379</td>\n",
       "    </tr>\n",
       "    <tr>\n",
       "      <th>3</th>\n",
       "      <td>3</td>\n",
       "      <td>6</td>\n",
       "      <td>987.718313</td>\n",
       "      <td>265.609615</td>\n",
       "      <td>788.627660</td>\n",
       "      <td>308.856451</td>\n",
       "    </tr>\n",
       "    <tr>\n",
       "      <th>4</th>\n",
       "      <td>4</td>\n",
       "      <td>8</td>\n",
       "      <td>920.645872</td>\n",
       "      <td>597.715663</td>\n",
       "      <td>599.060751</td>\n",
       "      <td>383.658415</td>\n",
       "    </tr>\n",
       "  </tbody>\n",
       "</table>\n",
       "</div>"
      ],
      "text/plain": [
       "  index v_x0     alpha_0     K_alpha          K_p         K_d\n",
       "0     0    8  397.815103  201.025012  1118.713249   68.857297\n",
       "1     1    6  832.992647  177.330654   739.057147   35.620148\n",
       "2     2    2  540.944621  207.134434  1154.970194   45.042379\n",
       "3     3    6  987.718313  265.609615   788.627660  308.856451\n",
       "4     4    8  920.645872  597.715663   599.060751  383.658415"
      ]
     },
     "execution_count": 21,
     "metadata": {},
     "output_type": "execute_result"
    }
   ],
   "source": [
    "df.head()"
   ]
  },
  {
   "cell_type": "code",
   "execution_count": 22,
   "metadata": {
    "metadata": {}
   },
   "outputs": [
    {
     "data": {
      "text/plain": [
       "(array([ 4.,  2.,  4.,  3.,  3.,  3.,  9.,  4.,  6., 12.]),\n",
       " array([ 0.,  1.,  2.,  3.,  4.,  5.,  6.,  7.,  8.,  9., 10.]),\n",
       " <BarContainer object of 10 artists>)"
      ]
     },
     "execution_count": 22,
     "metadata": {},
     "output_type": "execute_result"
    },
    {
     "data": {
      "image/png": "[encoded data removed]",
      "text/plain": [
       "<Figure size 640x480 with 1 Axes>"
      ]
     },
     "metadata": {},
     "output_type": "display_data"
    }
   ],
   "source": [
    "# view distribution of each param\n",
    "plt.hist(df['v_x0'], bins=10)"
   ]
  },
  {
   "cell_type": "code",
   "execution_count": 23,
   "metadata": {
    "metadata": {}
   },
   "outputs": [
    {
     "data": {
      "image/png": "[encoded data removed]",
      "text/plain": [
       "<Figure size 640x480 with 1 Axes>"
      ]
     },
     "metadata": {},
     "output_type": "display_data"
    }
   ],
   "source": [
    "plt.hist(df['alpha_0'], bins=10)\n",
    "plt.show()"
   ]
  },
  {
   "cell_type": "code",
   "execution_count": 24,
   "metadata": {
    "metadata": {}
   },
   "outputs": [
    {
     "data": {
      "text/plain": [
       "(array([23.,  4.,  1.,  1.,  3.,  3.,  2.,  1.,  2., 10.]),\n",
       " array([ 149.91791104,  234.92611993,  319.93432883,  404.94253773,\n",
       "         489.95074662,  574.95895552,  659.96716442,  744.97537331,\n",
       "         829.98358221,  914.9917911 , 1000.        ]),\n",
       " <BarContainer object of 10 artists>)"
      ]
     },
     "execution_count": 24,
     "metadata": {},
     "output_type": "execute_result"
    },
    {
     "data": {
      "image/png": "[encoded data removed]",
      "text/plain": [
       "<Figure size 640x480 with 1 Axes>"
      ]
     },
     "metadata": {},
     "output_type": "display_data"
    }
   ],
   "source": [
    "plt.hist(df['K_alpha'], bins=10)\n"
   ]
  },
  {
   "cell_type": "code",
   "execution_count": 25,
   "metadata": {
    "metadata": {}
   },
   "outputs": [
    {
     "data": {
      "text/plain": [
       "(array([ 1.,  0.,  5., 12.,  3., 13.,  3.,  2.,  2.,  9.]),\n",
       " array([   2.23501123,  202.01151011,  401.78800898,  601.56450786,\n",
       "         801.34100674, 1001.11750561, 1200.89400449, 1400.67050337,\n",
       "        1600.44700225, 1800.22350112, 2000.        ]),\n",
       " <BarContainer object of 10 artists>)"
      ]
     },
     "execution_count": 25,
     "metadata": {},
     "output_type": "execute_result"
    },
    {
     "data": {
      "image/png": "[encoded data removed]",
      "text/plain": [
       "<Figure size 640x480 with 1 Axes>"
      ]
     },
     "metadata": {},
     "output_type": "display_data"
    }
   ],
   "source": [
    "plt.hist(df['K_p'], bins=10)\n"
   ]
  },
  {
   "cell_type": "code",
   "execution_count": 29,
   "metadata": {
    "metadata": {}
   },
   "outputs": [
    {
     "data": {
      "text/html": [
       "<div>\n",
       "<style scoped>\n",
       "    .dataframe tbody tr th:only-of-type {\n",
       "        vertical-align: middle;\n",
       "    }\n",
       "\n",
       "    .dataframe tbody tr th {\n",
       "        vertical-align: top;\n",
       "    }\n",
       "\n",
       "    .dataframe thead th {\n",
       "        text-align: right;\n",
       "    }\n",
       "</style>\n",
       "<table border=\"1\" class=\"dataframe\">\n",
       "  <thead>\n",
       "    <tr style=\"text-align: right;\">\n",
       "      <th></th>\n",
       "      <th>index</th>\n",
       "      <th>v_x0</th>\n",
       "      <th>alpha_0</th>\n",
       "      <th>K_alpha</th>\n",
       "      <th>K_p</th>\n",
       "      <th>K_d</th>\n",
       "      <th>vEgo</th>\n",
       "      <th>avg_alpha</th>\n",
       "    </tr>\n",
       "  </thead>\n",
       "  <tbody>\n",
       "    <tr>\n",
       "      <th>0</th>\n",
       "      <td>0</td>\n",
       "      <td>8</td>\n",
       "      <td>397.815103</td>\n",
       "      <td>201.025012</td>\n",
       "      <td>1118.713249</td>\n",
       "      <td>68.857297</td>\n",
       "      <td>33.612789</td>\n",
       "      <td>7154.826330</td>\n",
       "    </tr>\n",
       "    <tr>\n",
       "      <th>1</th>\n",
       "      <td>1</td>\n",
       "      <td>6</td>\n",
       "      <td>832.992647</td>\n",
       "      <td>177.330654</td>\n",
       "      <td>739.057147</td>\n",
       "      <td>35.620148</td>\n",
       "      <td>20.863346</td>\n",
       "      <td>4532.703460</td>\n",
       "    </tr>\n",
       "    <tr>\n",
       "      <th>2</th>\n",
       "      <td>2</td>\n",
       "      <td>2</td>\n",
       "      <td>540.944621</td>\n",
       "      <td>207.134434</td>\n",
       "      <td>1154.970194</td>\n",
       "      <td>45.042379</td>\n",
       "      <td>31.195891</td>\n",
       "      <td>7002.687782</td>\n",
       "    </tr>\n",
       "    <tr>\n",
       "      <th>3</th>\n",
       "      <td>3</td>\n",
       "      <td>6</td>\n",
       "      <td>987.718313</td>\n",
       "      <td>265.609615</td>\n",
       "      <td>788.627660</td>\n",
       "      <td>308.856451</td>\n",
       "      <td>11.412333</td>\n",
       "      <td>4018.943675</td>\n",
       "    </tr>\n",
       "    <tr>\n",
       "      <th>4</th>\n",
       "      <td>4</td>\n",
       "      <td>8</td>\n",
       "      <td>920.645872</td>\n",
       "      <td>597.715663</td>\n",
       "      <td>599.060751</td>\n",
       "      <td>383.658415</td>\n",
       "      <td>10.445296</td>\n",
       "      <td>7163.962908</td>\n",
       "    </tr>\n",
       "  </tbody>\n",
       "</table>\n",
       "</div>"
      ],
      "text/plain": [
       "  index v_x0     alpha_0     K_alpha          K_p         K_d       vEgo  \\\n",
       "0     0    8  397.815103  201.025012  1118.713249   68.857297  33.612789   \n",
       "1     1    6  832.992647  177.330654   739.057147   35.620148  20.863346   \n",
       "2     2    2  540.944621  207.134434  1154.970194   45.042379  31.195891   \n",
       "3     3    6  987.718313  265.609615   788.627660  308.856451  11.412333   \n",
       "4     4    8  920.645872  597.715663   599.060751  383.658415  10.445296   \n",
       "\n",
       "     avg_alpha  \n",
       "0  7154.826330  \n",
       "1  4532.703460  \n",
       "2  7002.687782  \n",
       "3  4018.943675  \n",
       "4  7163.962908  "
      ]
     },
     "execution_count": 29,
     "metadata": {},
     "output_type": "execute_result"
    }
   ],
   "source": [
    "# add avg speed to each row\n",
    "for i in range(len(df)):\n",
    "    data_path = f'./data/{i:05}.csv'\n",
    "    df_data = pd.read_csv(data_path)\n",
    "    df.loc[i, 'vEgo'] = df_data['vEgo'].mean()\n",
    "    # add average alpha\n",
    "df['avg_alpha'] = df['alpha_0'] + df['K_alpha'] * df['vEgo']\n",
    "df.head()\n"
   ]
  },
  {
   "cell_type": "code",
   "execution_count": 30,
   "metadata": {
    "metadata": {}
   },
   "outputs": [
    {
     "data": {
      "text/plain": [
       "<matplotlib.collections.PathCollection at 0x164885f60d0>"
      ]
     },
     "execution_count": 30,
     "metadata": {},
     "output_type": "execute_result"
    },
    {
     "data": {
      "image/png": "[encoded data removed]",
      "text/plain": [
       "<Figure size 640x480 with 1 Axes>"
      ]
     },
     "metadata": {},
     "output_type": "display_data"
    }
   ],
   "source": [
    "# look at correlation between avg_alpha and vEgo\n",
    "plt.scatter(df['vEgo'], df['avg_alpha'])"
   ]
  },
  {
   "cell_type": "code",
   "execution_count": 27,
   "metadata": {
    "metadata": {}
   },
   "outputs": [
    {
     "data": {
      "image/png": "[encoded data removed]",
      "text/plain": [
       "<Figure size 640x480 with 4 Axes>"
      ]
     },
     "metadata": {},
     "output_type": "display_data"
    }
   ],
   "source": [
    "# see if there is a correlation between vEgo and the params\n",
    "# 4 subplots, graph median lines as well\n",
    "plt.subplot(2, 2, 1)\n",
    "plt.scatter(df['vEgo'], df['v_x0'])\n",
    "plt.plot(df['vEgo'], df['v_x0'].median()-5 * np.ones(len(df)), color='red')\n",
    "plt.subplot(2, 2, 2)\n",
    "plt.scatter(df['vEgo'], df['alpha_0'])\n",
    "plt.plot(df['vEgo'], df['alpha_0'].median() * np.ones(len(df)), color='red')\n",
    "plt.subplot(2, 2, 3)\n",
    "plt.scatter(df['vEgo'], df['K_alpha'])\n",
    "plt.plot(df['vEgo'], df['K_alpha'].median() * np.ones(len(df)), color='red')\n",
    "plt.subplot(2, 2, 4)\n",
    "plt.scatter(df['vEgo'], df['K_p'])\n",
    "plt.plot(df['vEgo'], df['K_p'].median() * np.ones(len(df)), color='red')\n",
    "plt.show()\n",
    "\n",
    "\n"
   ]
  },
  {
   "cell_type": "code",
   "execution_count": null,
   "metadata": {
    "metadata": {}
   },
   "outputs": [
    {
     "data": {
      "text/plain": [
       "31012.08469890327"
      ]
     },
     "execution_count": 47,
     "metadata": {},
     "output_type": "execute_result"
    }
   ],
   "source": [
    "df['alpha_0'].median()"
   ]
  },
  {
   "cell_type": "code",
   "execution_count": null,
   "metadata": {
    "metadata": {}
   },
   "outputs": [
    {
     "data": {
      "text/plain": [
       "1793.394418071076"
      ]
     },
     "execution_count": 50,
     "metadata": {},
     "output_type": "execute_result"
    }
   ],
   "source": [
    "df['K_alpha'].median()"
   ]
  },
  {
   "cell_type": "code",
   "execution_count": null,
   "metadata": {
    "metadata": {}
   },
   "outputs": [
    {
     "data": {
      "text/plain": [
       "5550.624198328551"
      ]
     },
     "execution_count": 51,
     "metadata": {},
     "output_type": "execute_result"
    }
   ],
   "source": [
    "df['K_p'].median()"
   ]
  },
  {
   "cell_type": "code",
   "execution_count": null,
   "metadata": {
    "metadata": {}
   },
   "outputs": [
    {
     "data": {
      "text/plain": [
       "10000.0"
      ]
     },
     "execution_count": 52,
     "metadata": {},
     "output_type": "execute_result"
    }
   ],
   "source": [
    "df['K_d'].median()"
   ]
  }
 ],
 "metadata": {
  "kernelspec": {
   "display_name": "Python 3",
   "language": "python",
   "name": "python3"
  },
  "language_info": {
   "codemirror_mode": {
    "name": "ipython",
    "version": 3
   },
   "file_extension": ".py",
   "mimetype": "text/x-python",
   "name": "python",
   "nbconvert_exporter": "python",
   "pygments_lexer": "ipython3",
   "version": "3.11.9"
  }
 },
 "nbformat": 4,
 "nbformat_minor": 2
}
